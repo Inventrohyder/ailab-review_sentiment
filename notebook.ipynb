{
 "cells": [
  {
   "cell_type": "markdown",
   "metadata": {},
   "source": [
    "# Trip Advisor model"
   ]
  },
  {
   "cell_type": "markdown",
   "metadata": {},
   "source": [
    "## Steps\n",
    "\n",
    "1. Import Trip Advisor data\n",
    "2. Tokenize the data (create a word index that represents words as numbers)\n",
    "3. Use an oov token to include words not seen before\n",
    "4. Pad the sentences to have similar length\n"
   ]
  },
  {
   "cell_type": "code",
   "execution_count": 1,
   "metadata": {},
   "outputs": [],
   "source": [
    "import pandas as pd"
   ]
  },
  {
   "cell_type": "code",
   "execution_count": 2,
   "metadata": {},
   "outputs": [],
   "source": [
    "# Important Variables\n",
    "vocab_size = 10000\n",
    "trunc_type =\"post\"\n",
    "padding_type = \"post\"\n",
    "oov_tok = \"<OOV>\"\n",
    "embedding_dim = 16"
   ]
  },
  {
   "cell_type": "code",
   "execution_count": 3,
   "metadata": {},
   "outputs": [
    {
     "data": {
      "text/html": [
       "<div>\n",
       "<style scoped>\n",
       "    .dataframe tbody tr th:only-of-type {\n",
       "        vertical-align: middle;\n",
       "    }\n",
       "\n",
       "    .dataframe tbody tr th {\n",
       "        vertical-align: top;\n",
       "    }\n",
       "\n",
       "    .dataframe thead th {\n",
       "        text-align: right;\n",
       "    }\n",
       "</style>\n",
       "<table border=\"1\" class=\"dataframe\">\n",
       "  <thead>\n",
       "    <tr style=\"text-align: right;\">\n",
       "      <th></th>\n",
       "      <th>Unnamed: 0</th>\n",
       "      <th>Review</th>\n",
       "      <th>Rating</th>\n",
       "    </tr>\n",
       "  </thead>\n",
       "  <tbody>\n",
       "    <tr>\n",
       "      <th>0</th>\n",
       "      <td>0</td>\n",
       "      <td>fabulous hotel mum just returned 4 night stay ...</td>\n",
       "      <td>4</td>\n",
       "    </tr>\n",
       "    <tr>\n",
       "      <th>1</th>\n",
       "      <td>1</td>\n",
       "      <td>romantic international ambience spent honeymoo...</td>\n",
       "      <td>4</td>\n",
       "    </tr>\n",
       "    <tr>\n",
       "      <th>2</th>\n",
       "      <td>2</td>\n",
       "      <td>great hotel location union square stay great 6...</td>\n",
       "      <td>3</td>\n",
       "    </tr>\n",
       "    <tr>\n",
       "      <th>3</th>\n",
       "      <td>3</td>\n",
       "      <td>pretty outside smelly inside beach beautiful p...</td>\n",
       "      <td>1</td>\n",
       "    </tr>\n",
       "    <tr>\n",
       "      <th>4</th>\n",
       "      <td>4</td>\n",
       "      <td>kids loved spent nights hotel wife kids christ...</td>\n",
       "      <td>4</td>\n",
       "    </tr>\n",
       "  </tbody>\n",
       "</table>\n",
       "</div>"
      ],
      "text/plain": [
       "   Unnamed: 0                                             Review  Rating\n",
       "0           0  fabulous hotel mum just returned 4 night stay ...       4\n",
       "1           1  romantic international ambience spent honeymoo...       4\n",
       "2           2  great hotel location union square stay great 6...       3\n",
       "3           3  pretty outside smelly inside beach beautiful p...       1\n",
       "4           4  kids loved spent nights hotel wife kids christ...       4"
      ]
     },
     "execution_count": 3,
     "metadata": {},
     "output_type": "execute_result"
    }
   ],
   "source": [
    "df = pd.read_csv('to_model.csv')\n",
    "df.head()"
   ]
  },
  {
   "cell_type": "code",
   "execution_count": 4,
   "metadata": {},
   "outputs": [
    {
     "name": "stdout",
     "output_type": "stream",
     "text": [
      "['fabulous hotel mum just returned 4 night stay hotel 1898 fabulous, recently decorated rooms immaculate decor fantastic really beautiful hotel, location perfect nicer end la ramblas need close treat return tranquility hotel busy day sight seeing.the staff attentive polite spoke perfect english, price drinks bar expect little hard swallow having gorgeous course meal local resturant price gin tonics.although roof pool undergoing refurbishment stay basement pool surrounding facilities adequate,  ', \"romantic international ambience spent honeymoon melia caribe 23-30. plane landed torrential downpour soaked skin steps plane, rained 7 days just hot gorgeous, truly loved resort food people, management helpful needed courteous friendly, nightly shows fun casino, pools incredible beach beautiful, just short stroll resort swim deserted stretches beach wanted, took outback tour must-do tourists, islanders live visit mountains macou beach enjoy lunch siesta hammocks, buy souviniers tour rum 2/bottle jewelry 5-10, shop beach bargain big time, n't pay 1/3 asking price, phone room dinner reservations needed places, avg, salary hotel workers 150.00 month 12-14 hrs./day 25 days work 5 days, mind tip not required wait staff maids, appreciative, occasional topless ladies seen beach, cool observing french spanish german people, kyaking sailing paddle boats free, best vacation deal experienced just awesome, email,  \", 'great hotel location union square stay great 6 people total 3 rooms, room little different, enjoyed location close union square shopping just cable car away wharf, staff friendly helpful, definately stay returning sf,  ', \"pretty outside smelly inside beach beautiful pool pretty overcrowded 2 main restaurants goodlooking, big disappointment stinky rooms cigarette smoke given better room smell live kind smell humid uncirculated air bathrooms, pillows lumpy rock hard kind sized bed partially covered queensized sheets nights, expected inclusive mean exactly experience beaches included water sports, turns breezes fine print stipulates non-motorized water sports included, n't intend spend time room ok resort public areas quite nice, fun dancing pool twice day good entertainment night,  \", 'kids loved spent nights hotel wife kids christmas holidays, perfect, service great food little bit expensive compared mexican standards, good choice restaurants dine going classical mexican italian french chinese coffe.the hot pool central patio fantastic kids parents well.pros everytingcons luxury taxis hotel little expensive say 140 mxp 15 minutes drive versus 30-40 mxp ordinary taxis,  ']\n",
      "[4, 3, 3, 3, 2]\n"
     ]
    }
   ],
   "source": [
    "X_train = list(df['Review'])\n",
    "y_train = list(df['Rating'])\n",
    "\n",
    "print(X_train[:5])\n",
    "print(y_train[-5:])"
   ]
  },
  {
   "cell_type": "code",
   "execution_count": 5,
   "metadata": {},
   "outputs": [
    {
     "data": {
      "text/html": [
       "<div>\n",
       "<style scoped>\n",
       "    .dataframe tbody tr th:only-of-type {\n",
       "        vertical-align: middle;\n",
       "    }\n",
       "\n",
       "    .dataframe tbody tr th {\n",
       "        vertical-align: top;\n",
       "    }\n",
       "\n",
       "    .dataframe thead th {\n",
       "        text-align: right;\n",
       "    }\n",
       "</style>\n",
       "<table border=\"1\" class=\"dataframe\">\n",
       "  <thead>\n",
       "    <tr style=\"text-align: right;\">\n",
       "      <th></th>\n",
       "      <th>Unnamed: 0</th>\n",
       "      <th>Review</th>\n",
       "      <th>Rating</th>\n",
       "    </tr>\n",
       "  </thead>\n",
       "  <tbody>\n",
       "    <tr>\n",
       "      <th>0</th>\n",
       "      <td>0</td>\n",
       "      <td>ehhh better punta cana twice compared hotel st...</td>\n",
       "      <td>1</td>\n",
       "    </tr>\n",
       "    <tr>\n",
       "      <th>1</th>\n",
       "      <td>1</td>\n",
       "      <td>4 n't think, decided book atenea night stay de...</td>\n",
       "      <td>1</td>\n",
       "    </tr>\n",
       "    <tr>\n",
       "      <th>2</th>\n",
       "      <td>2</td>\n",
       "      <td>awesome time just returned vacation fantastic ...</td>\n",
       "      <td>3</td>\n",
       "    </tr>\n",
       "    <tr>\n",
       "      <th>3</th>\n",
       "      <td>3</td>\n",
       "      <td>grand oasis wonderful second time, group 20 fr...</td>\n",
       "      <td>4</td>\n",
       "    </tr>\n",
       "    <tr>\n",
       "      <th>4</th>\n",
       "      <td>4</td>\n",
       "      <td>not bad stay stayed hotel family attending jav...</td>\n",
       "      <td>2</td>\n",
       "    </tr>\n",
       "  </tbody>\n",
       "</table>\n",
       "</div>"
      ],
      "text/plain": [
       "   Unnamed: 0                                             Review  Rating\n",
       "0           0  ehhh better punta cana twice compared hotel st...       1\n",
       "1           1  4 n't think, decided book atenea night stay de...       1\n",
       "2           2  awesome time just returned vacation fantastic ...       3\n",
       "3           3  grand oasis wonderful second time, group 20 fr...       4\n",
       "4           4  not bad stay stayed hotel family attending jav...       2"
      ]
     },
     "execution_count": 5,
     "metadata": {},
     "output_type": "execute_result"
    }
   ],
   "source": [
    "df = pd.read_csv('test.csv')\n",
    "df.head()"
   ]
  },
  {
   "cell_type": "code",
   "execution_count": 6,
   "metadata": {},
   "outputs": [
    {
     "name": "stdout",
     "output_type": "stream",
     "text": [
      "[\"ehhh better punta cana twice compared hotel stayed hotel major need help, let start good rooms little houses 4 rooms bungalow meant privacy, minibar minifrige pretty nice included array different liquors, staff really nice helpful exception, room did not smell like people expierience, pools nice, little shops really cool club plays mixture music, bad, desk staff exception nice staff, completely unorganized rude, rooms n't use key cards just keys, charge room prepared pay cash, n't creditcards, minibar frige stocked day, worst hike pool desk beach, closer not like, area like maze lost houses look map given, overall rate hotel 2-3 5 stars, like title states better,  \", \"4 n't think, decided book atenea night stay december received fairly good reviews convenient metro provided breakfast, unfortunately disappointed yes hotel convenient metro positive feature, hotel dated curtains carpets rooms bit scrub, rooms kitchens unless bring kitchen utensils not major advantage, plus sheets clean provided clean towels day, walls hotel extremely familiar neighbours nocturnal habits smell smoke rooms.breakfast bizarre affair granted stay breakfast served different location norm did not excuse complete lack organisation, room consisted mainly large tables seated 8 people share groups, morning wait bowls washed cereal morning cereal soggy time got spoons, toaster did not work hot food luke warm.barcelona great city plenty offer visit certainly not stay hotel atenea,  \", 'awesome time just returned vacation fantastic time, weather really nice grounds immaculate, dominicains friendliest people meet, planned trip palladium going shortly like tips advice restaurants best send email happy help, reach hermosoazulojos yahoo.ca, hope hear,  ', 'grand oasis wonderful second time, group 20 friends went grand oasis april 5-12 fantastic time, husband january planned wedding friends group, wedding awesome, jose pr person arrangements married couple beach planned, champange beach wedding dinner damarios italian housekeeping staff decorated room, entire staff watches little thing right, ate restaurants loved, friday night given special dinner beach apple vacations steak grilled shrimp bbq chicken trimmings, not say nice things resort, does wonderful job gm pablo carin jose registration staff wait staff housekeeping guys sweeping seaweed morning, plan going january april 2009. husband says new home,  ', 'not bad stay stayed hotel family attending javaone 2008. lot positives hotel disappointments.positives 1- great location, easy 80 head oakland easy water easy 101 head silicon valley, nice walk moscone center 2- sleep 5 comfortable room 2 queens sofa-bed 3- great price, hotels area good value, 4- helpful desk staffdisappointments 1- poll small, deepest end 3.5 feet yes just little meter, shallow end 3 feet 2- parking expensive, 50/night include taxes 3- 2 5 nights housekeeping sheets sofa-bed, time took 3 hours arrive 4- day arrived street main entrance closed making difficult hotel,  ']\n",
      "[1, 4, 4, 3, 4]\n"
     ]
    }
   ],
   "source": [
    "X_test = list(df['Review'])\n",
    "y_test = list(df['Rating'])\n",
    "\n",
    "print(X_test[:5])\n",
    "print(y_test[-5:])"
   ]
  },
  {
   "cell_type": "code",
   "execution_count": 7,
   "metadata": {},
   "outputs": [],
   "source": [
    "import tensorflow as tf\n",
    "from tensorflow.keras.preprocessing.text import Tokenizer\n",
    "from tensorflow.keras.preprocessing.sequence import pad_sequences"
   ]
  },
  {
   "cell_type": "code",
   "execution_count": 8,
   "metadata": {},
   "outputs": [],
   "source": [
    "# Tokenize the words (bag of words) with an oov token\n",
    "tokenizer = Tokenizer(num_words=vocab_size, oov_token=oov_tok)\n",
    "tokenizer.fit_on_texts(X_train)\n",
    "word_index = tokenizer.word_index"
   ]
  },
  {
   "cell_type": "code",
   "execution_count": 9,
   "metadata": {},
   "outputs": [],
   "source": [
    "import numpy as np"
   ]
  },
  {
   "cell_type": "code",
   "execution_count": 10,
   "metadata": {},
   "outputs": [
    {
     "name": "stdout",
     "output_type": "stream",
     "text": [
      "[ 324    2 3605   11  192   67   18    9    2 5158  324  562  438   13\n",
      " 1125  426   93   27   54    2   15   97  769  198  261  636  108   90\n",
      "  920  155 5557    2  336   20 1303  787   29    8  660  593  466   97\n",
      "  152   72  123   43  219   35  203    1  186  492  383  385  312 1989\n",
      "   72 5054    1 2993  924   30 4218 2867    9 1973   30 1584  366  564\n",
      "    0    0    0    0    0    0    0    0    0    0    0    0    0    0\n",
      "    0    0    0    0    0    0    0    0    0    0    0    0    0    0\n",
      "    0    0    0    0    0    0    0    0    0    0    0    0    0    0\n",
      "    0    0    0    0    0    0    0    0    0    0    0    0    0    0\n",
      "    0    0    0    0    0    0    0    0    0    0    0    0    0    0\n",
      "    0    0    0    0    0    0    0    0    0    0    0    0    0    0\n",
      "    0    0    0    0    0    0    0    0    0    0    0    0    0    0\n",
      "    0    0    0    0    0    0    0    0    0    0    0    0    0    0\n",
      "    0    0    0    0    0    0    0    0    0    0    0    0    0    0\n",
      "    0    0    0    0    0    0    0    0    0    0    0    0    0    0\n",
      "    0    0    0    0    0    0    0    0    0    0    0    0    0    0\n",
      "    0    0    0    0    0    0    0    0    0    0    0    0    0    0\n",
      "    0    0    0    0    0    0    0    0    0    0    0    0    0    0\n",
      "    0    0    0    0    0    0    0    0    0    0    0    0    0    0\n",
      "    0    0    0    0    0    0    0    0    0    0    0    0    0    0\n",
      "    0    0    0    0    0    0    0    0    0    0    0    0    0    0\n",
      "    0    0    0    0    0    0    0    0    0    0    0    0    0    0\n",
      "    0    0    0    0    0    0    0    0    0    0    0    0    0    0\n",
      "    0    0    0    0    0    0    0    0    0    0    0    0    0    0\n",
      "    0    0    0    0    0    0    0    0    0    0    0    0    0    0\n",
      "    0    0    0    0    0    0    0    0    0    0    0    0    0    0\n",
      "    0    0    0    0    0    0    0    0    0    0    0    0    0    0\n",
      "    0    0    0    0    0    0    0    0    0    0    0    0    0    0\n",
      "    0    0    0    0    0    0    0    0    0    0    0    0    0    0\n",
      "    0    0    0    0    0    0    0    0    0    0    0    0    0    0\n",
      "    0    0    0    0    0    0    0    0    0    0    0    0    0    0\n",
      "    0    0    0    0    0    0    0    0    0    0    0    0    0    0\n",
      "    0    0    0    0    0    0    0    0    0    0    0    0    0    0\n",
      "    0    0    0    0    0    0    0    0    0    0    0    0    0    0\n",
      "    0    0    0    0    0    0    0    0    0    0    0    0    0    0\n",
      "    0    0    0    0    0    0    0    0    0    0    0    0    0    0\n",
      "    0    0    0    0    0    0    0    0    0    0    0    0    0    0\n",
      "    0    0    0    0    0    0    0    0    0    0    0    0    0]\n",
      "(15368, 531)\n"
     ]
    }
   ],
   "source": [
    "sequences_training = tokenizer.texts_to_sequences(X_train)\n",
    "max_length = int(np.median([len(x) for x in X_train]))\n",
    "padded_training = pad_sequences(\n",
    "    sequences_training, \n",
    "    padding=padding_type, \n",
    "    truncating=trunc_type,\n",
    "    maxlen=max_length\n",
    ")\n",
    "\n",
    "print(padded_training[0])\n",
    "print(padded_training.shape)"
   ]
  },
  {
   "cell_type": "code",
   "execution_count": 11,
   "metadata": {},
   "outputs": [
    {
     "name": "stdout",
     "output_type": "stream",
     "text": [
      "[   1   62  216  213  436  763    2   17    2  425  108  239  287  384\n",
      "    7   13   35 2745   67   13 4684 1165 1438 1131    1  128   12  245\n",
      " 4055  175 5001    8   27   12   40 1456    3   10    4  532   25   33\n",
      "    1  357   12   35  319   27  381  172 5094 5008  435  102   58    8\n",
      " 1456   12    8  712 6350  522   13    6  110  489 1187   11 1611  322\n",
      "    3  645  191 1273    6    1 1131    1  792   20  544 3144   30   58\n",
      "   21 1157    4   25   39   25 5286  929 2745  246 1212  259  112  227\n",
      "    2   31   44   42  707   25 5815 1572   62    0    0    0    0    0\n",
      "    0    0    0    0    0    0    0    0    0    0    0    0    0    0\n",
      "    0    0    0    0    0    0    0    0    0    0    0    0    0    0\n",
      "    0    0    0    0    0    0    0    0    0    0    0    0    0    0\n",
      "    0    0    0    0    0    0    0    0    0    0    0    0    0    0\n",
      "    0    0    0    0    0    0    0    0    0    0    0    0    0    0\n",
      "    0    0    0    0    0    0    0    0    0    0    0    0    0    0\n",
      "    0    0    0    0    0    0    0    0    0    0    0    0    0    0\n",
      "    0    0    0    0    0    0    0    0    0    0    0    0    0    0\n",
      "    0    0    0    0    0    0    0    0    0    0    0    0    0    0\n",
      "    0    0    0    0    0    0    0    0    0    0    0    0    0    0\n",
      "    0    0    0    0    0    0    0    0    0    0    0    0    0    0\n",
      "    0    0    0    0    0    0    0    0    0    0    0    0    0    0\n",
      "    0    0    0    0    0    0    0    0    0    0    0    0    0    0\n",
      "    0    0    0    0    0    0    0    0    0    0    0    0    0    0\n",
      "    0    0    0    0    0    0    0    0    0    0    0    0    0    0\n",
      "    0    0    0    0    0    0    0    0    0    0    0    0    0    0\n",
      "    0    0    0    0    0    0    0    0    0    0    0    0    0    0\n",
      "    0    0    0    0    0    0    0    0    0    0    0    0    0    0\n",
      "    0    0    0    0    0    0    0    0    0    0    0    0    0    0\n",
      "    0    0    0    0    0    0    0    0    0    0    0    0    0    0\n",
      "    0    0    0    0    0    0    0    0    0    0    0    0    0    0\n",
      "    0    0    0    0    0    0    0    0    0    0    0    0    0    0\n",
      "    0    0    0    0    0    0    0    0    0    0    0    0    0    0\n",
      "    0    0    0    0    0    0    0    0    0    0    0    0    0    0\n",
      "    0    0    0    0    0    0    0    0    0    0    0    0    0    0\n",
      "    0    0    0    0    0    0    0    0    0    0    0    0    0    0\n",
      "    0    0    0    0    0    0    0    0    0    0    0    0    0    0\n",
      "    0    0    0    0    0    0    0    0    0    0    0    0    0    0\n",
      "    0    0    0    0    0    0    0    0    0    0    0    0    0    0\n",
      "    0    0    0    0    0    0    0    0    0    0    0    0    0]\n",
      "(5123, 531)\n"
     ]
    }
   ],
   "source": [
    "sequences_test = tokenizer.texts_to_sequences(X_test)\n",
    "padded_test = pad_sequences(\n",
    "    sequences_test, \n",
    "    padding=padding_type, \n",
    "    truncating=trunc_type,\n",
    "    maxlen=max_length\n",
    ")\n",
    "\n",
    "print(padded_test[0])\n",
    "print(padded_test.shape)"
   ]
  },
  {
   "cell_type": "code",
   "execution_count": 12,
   "metadata": {},
   "outputs": [],
   "source": [
    "# Need this block to get it to work with TensorFlow 2.x\n",
    "import numpy as np\n",
    "padded_training = np.array(padded_training)\n",
    "y_train = np.array(y_train)\n",
    "padded_test = np.array(padded_test)\n",
    "y_test = np.array(y_test)"
   ]
  },
  {
   "cell_type": "code",
   "execution_count": 13,
   "metadata": {},
   "outputs": [],
   "source": [
    "\n",
    "model = tf.keras.models.Sequential([\n",
    "    tf.keras.layers.Embedding(vocab_size, embedding_dim, input_length = max_length),\n",
    "    tf.keras.layers.GlobalAveragePooling1D(),\n",
    "    tf.keras.layers.Dense(32, activation='relu'),\n",
    "    tf.keras.layers.Dropout(0.2),\n",
    "    tf.keras.layers.Dense(5, activation='softmax')\n",
    "])\n",
    "\n",
    "model.compile(optimizer='adam',\n",
    "              loss='sparse_categorical_crossentropy',\n",
    "              metrics=['accuracy'])"
   ]
  },
  {
   "cell_type": "code",
   "execution_count": 14,
   "metadata": {},
   "outputs": [
    {
     "name": "stdout",
     "output_type": "stream",
     "text": [
      "Model: \"sequential\"\n",
      "_________________________________________________________________\n",
      "Layer (type)                 Output Shape              Param #   \n",
      "=================================================================\n",
      "embedding (Embedding)        (None, 531, 16)           160000    \n",
      "_________________________________________________________________\n",
      "global_average_pooling1d (Gl (None, 16)                0         \n",
      "_________________________________________________________________\n",
      "dense (Dense)                (None, 32)                544       \n",
      "_________________________________________________________________\n",
      "dropout (Dropout)            (None, 32)                0         \n",
      "_________________________________________________________________\n",
      "dense_1 (Dense)              (None, 5)                 165       \n",
      "=================================================================\n",
      "Total params: 160,709\n",
      "Trainable params: 160,709\n",
      "Non-trainable params: 0\n",
      "_________________________________________________________________\n"
     ]
    }
   ],
   "source": [
    "model.summary()"
   ]
  },
  {
   "cell_type": "code",
   "execution_count": 15,
   "metadata": {},
   "outputs": [
    {
     "name": "stdout",
     "output_type": "stream",
     "text": [
      "Epoch 1/50\n",
      "481/481 - 1s - loss: 1.3808 - accuracy: 0.4392 - val_loss: 1.3301 - val_accuracy: 0.4353\n",
      "Epoch 2/50\n",
      "481/481 - 1s - loss: 1.2520 - accuracy: 0.4580 - val_loss: 1.1252 - val_accuracy: 0.4909\n",
      "Epoch 3/50\n",
      "481/481 - 1s - loss: 1.0256 - accuracy: 0.5262 - val_loss: 0.9958 - val_accuracy: 0.5382\n",
      "Epoch 4/50\n",
      "481/481 - 1s - loss: 0.9281 - accuracy: 0.5744 - val_loss: 0.9399 - val_accuracy: 0.5862\n",
      "Epoch 5/50\n",
      "481/481 - 1s - loss: 0.8730 - accuracy: 0.6026 - val_loss: 0.9225 - val_accuracy: 0.5885\n",
      "Epoch 6/50\n",
      "481/481 - 1s - loss: 0.8343 - accuracy: 0.6249 - val_loss: 0.8962 - val_accuracy: 0.6069\n",
      "Epoch 7/50\n",
      "481/481 - 1s - loss: 0.8010 - accuracy: 0.6421 - val_loss: 0.8819 - val_accuracy: 0.6131\n",
      "Epoch 8/50\n",
      "481/481 - 1s - loss: 0.7771 - accuracy: 0.6575 - val_loss: 0.8717 - val_accuracy: 0.6223\n",
      "Epoch 9/50\n",
      "481/481 - 1s - loss: 0.7484 - accuracy: 0.6723 - val_loss: 0.8778 - val_accuracy: 0.6207\n",
      "Epoch 10/50\n",
      "481/481 - 1s - loss: 0.7247 - accuracy: 0.6847 - val_loss: 0.8662 - val_accuracy: 0.6262\n",
      "Epoch 11/50\n",
      "481/481 - 1s - loss: 0.7014 - accuracy: 0.6966 - val_loss: 0.8666 - val_accuracy: 0.6328\n",
      "Epoch 12/50\n",
      "481/481 - 1s - loss: 0.6872 - accuracy: 0.7052 - val_loss: 0.8662 - val_accuracy: 0.6334\n",
      "Epoch 13/50\n",
      "481/481 - 1s - loss: 0.6659 - accuracy: 0.7175 - val_loss: 0.8735 - val_accuracy: 0.6322\n",
      "Epoch 14/50\n",
      "481/481 - 1s - loss: 0.6474 - accuracy: 0.7253 - val_loss: 0.8816 - val_accuracy: 0.6354\n",
      "Epoch 15/50\n",
      "481/481 - 1s - loss: 0.6270 - accuracy: 0.7361 - val_loss: 0.8986 - val_accuracy: 0.6315\n",
      "Epoch 16/50\n",
      "481/481 - 1s - loss: 0.6148 - accuracy: 0.7434 - val_loss: 0.9051 - val_accuracy: 0.6346\n",
      "Epoch 17/50\n",
      "481/481 - 1s - loss: 0.5961 - accuracy: 0.7550 - val_loss: 0.9131 - val_accuracy: 0.6276\n",
      "Epoch 18/50\n",
      "481/481 - 1s - loss: 0.5777 - accuracy: 0.7656 - val_loss: 0.9432 - val_accuracy: 0.6336\n",
      "Epoch 19/50\n",
      "481/481 - 1s - loss: 0.5664 - accuracy: 0.7707 - val_loss: 0.9389 - val_accuracy: 0.6344\n",
      "Epoch 20/50\n",
      "481/481 - 1s - loss: 0.5479 - accuracy: 0.7816 - val_loss: 0.9591 - val_accuracy: 0.6199\n",
      "Epoch 21/50\n",
      "481/481 - 1s - loss: 0.5324 - accuracy: 0.7875 - val_loss: 0.9810 - val_accuracy: 0.6297\n",
      "Epoch 22/50\n",
      "481/481 - 1s - loss: 0.5192 - accuracy: 0.7985 - val_loss: 0.9985 - val_accuracy: 0.6319\n",
      "Epoch 23/50\n",
      "481/481 - 1s - loss: 0.5032 - accuracy: 0.8038 - val_loss: 1.0204 - val_accuracy: 0.6252\n",
      "Epoch 24/50\n",
      "481/481 - 1s - loss: 0.4920 - accuracy: 0.8105 - val_loss: 1.0354 - val_accuracy: 0.6178\n",
      "Epoch 25/50\n",
      "481/481 - 1s - loss: 0.4775 - accuracy: 0.8170 - val_loss: 1.0538 - val_accuracy: 0.6174\n",
      "Epoch 26/50\n",
      "481/481 - 1s - loss: 0.4607 - accuracy: 0.8256 - val_loss: 1.1022 - val_accuracy: 0.6065\n",
      "Epoch 27/50\n",
      "481/481 - 1s - loss: 0.4482 - accuracy: 0.8308 - val_loss: 1.1174 - val_accuracy: 0.6194\n",
      "Epoch 28/50\n",
      "481/481 - 1s - loss: 0.4351 - accuracy: 0.8404 - val_loss: 1.1556 - val_accuracy: 0.6178\n",
      "Epoch 29/50\n",
      "481/481 - 1s - loss: 0.4250 - accuracy: 0.8429 - val_loss: 1.1797 - val_accuracy: 0.6170\n",
      "Epoch 30/50\n",
      "481/481 - 1s - loss: 0.4116 - accuracy: 0.8506 - val_loss: 1.2238 - val_accuracy: 0.6125\n",
      "Epoch 31/50\n",
      "481/481 - 1s - loss: 0.3992 - accuracy: 0.8583 - val_loss: 1.2430 - val_accuracy: 0.6053\n",
      "Epoch 32/50\n",
      "481/481 - 1s - loss: 0.3857 - accuracy: 0.8615 - val_loss: 1.2867 - val_accuracy: 0.5961\n",
      "Epoch 33/50\n",
      "481/481 - 1s - loss: 0.3721 - accuracy: 0.8675 - val_loss: 1.3341 - val_accuracy: 0.5954\n",
      "Epoch 34/50\n",
      "481/481 - 1s - loss: 0.3583 - accuracy: 0.8760 - val_loss: 1.4016 - val_accuracy: 0.6118\n",
      "Epoch 35/50\n",
      "481/481 - 1s - loss: 0.3491 - accuracy: 0.8786 - val_loss: 1.3999 - val_accuracy: 0.5954\n",
      "Epoch 36/50\n",
      "481/481 - 1s - loss: 0.3393 - accuracy: 0.8819 - val_loss: 1.4546 - val_accuracy: 0.6026\n",
      "Epoch 37/50\n",
      "481/481 - 1s - loss: 0.3315 - accuracy: 0.8865 - val_loss: 1.4854 - val_accuracy: 0.6071\n",
      "Epoch 38/50\n",
      "481/481 - 1s - loss: 0.3231 - accuracy: 0.8905 - val_loss: 1.5185 - val_accuracy: 0.6002\n",
      "Epoch 39/50\n",
      "481/481 - 1s - loss: 0.3086 - accuracy: 0.8975 - val_loss: 1.5830 - val_accuracy: 0.5875\n",
      "Epoch 40/50\n",
      "481/481 - 1s - loss: 0.3013 - accuracy: 0.8973 - val_loss: 1.6507 - val_accuracy: 0.6032\n",
      "Epoch 41/50\n",
      "481/481 - 1s - loss: 0.2940 - accuracy: 0.9008 - val_loss: 1.6568 - val_accuracy: 0.5860\n",
      "Epoch 42/50\n",
      "481/481 - 1s - loss: 0.2797 - accuracy: 0.9124 - val_loss: 1.7432 - val_accuracy: 0.5989\n",
      "Epoch 43/50\n",
      "481/481 - 1s - loss: 0.2712 - accuracy: 0.9133 - val_loss: 1.7685 - val_accuracy: 0.5862\n",
      "Epoch 44/50\n",
      "481/481 - 1s - loss: 0.2626 - accuracy: 0.9150 - val_loss: 1.8279 - val_accuracy: 0.5955\n",
      "Epoch 45/50\n",
      "481/481 - 1s - loss: 0.2536 - accuracy: 0.9188 - val_loss: 1.8804 - val_accuracy: 0.5840\n",
      "Epoch 46/50\n",
      "481/481 - 1s - loss: 0.2478 - accuracy: 0.9216 - val_loss: 1.9676 - val_accuracy: 0.5924\n",
      "Epoch 47/50\n",
      "481/481 - 1s - loss: 0.2379 - accuracy: 0.9261 - val_loss: 1.9745 - val_accuracy: 0.5854\n",
      "Epoch 48/50\n",
      "481/481 - 1s - loss: 0.2316 - accuracy: 0.9282 - val_loss: 2.0564 - val_accuracy: 0.5866\n",
      "Epoch 49/50\n",
      "481/481 - 1s - loss: 0.2239 - accuracy: 0.9318 - val_loss: 2.1218 - val_accuracy: 0.5922\n",
      "Epoch 50/50\n",
      "481/481 - 1s - loss: 0.2151 - accuracy: 0.9357 - val_loss: 2.1885 - val_accuracy: 0.5891\n"
     ]
    }
   ],
   "source": [
    "num_epochs = 50\n",
    "history = model.fit(\n",
    "    padded_training, y_train,\n",
    "    epochs= num_epochs,\n",
    "    validation_data = (padded_test, y_test),\n",
    "    verbose=2\n",
    ")"
   ]
  }
 ],
 "metadata": {
  "kernelspec": {
   "display_name": "Python 3",
   "language": "python",
   "name": "python3"
  },
  "language_info": {
   "codemirror_mode": {
    "name": "ipython",
    "version": 3
   },
   "file_extension": ".py",
   "mimetype": "text/x-python",
   "name": "python",
   "nbconvert_exporter": "python",
   "pygments_lexer": "ipython3",
   "version": "3.7.3"
  }
 },
 "nbformat": 4,
 "nbformat_minor": 4
}
