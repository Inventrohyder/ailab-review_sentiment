{
 "cells": [
  {
   "cell_type": "markdown",
   "metadata": {},
   "source": [
    "# Trip Advisor model"
   ]
  },
  {
   "cell_type": "markdown",
   "metadata": {},
   "source": [
    "## Steps\n",
    "\n",
    "1. Import Trip Advisor data\n",
    "2. Tokenize the data (create a word index that represents words as numbers)\n",
    "3. Use an oov token to include words not seen before\n",
    "4. Pad the sentences to have similar length\n"
   ]
  },
  {
   "cell_type": "code",
   "execution_count": 1,
   "metadata": {},
   "outputs": [],
   "source": [
    "import pandas as pd"
   ]
  },
  {
   "cell_type": "code",
   "execution_count": 2,
   "metadata": {},
   "outputs": [],
   "source": [
    "# Important Variables\n",
    "vocab_size = 10000\n",
    "trunc_type =\"post\"\n",
    "padding_type = \"post\"\n",
    "oov_tok = \"<OOV>\"\n",
    "embedding_dim = 16"
   ]
  },
  {
   "cell_type": "code",
   "execution_count": 3,
   "metadata": {},
   "outputs": [
    {
     "data": {
      "text/html": [
       "<div>\n",
       "<style scoped>\n",
       "    .dataframe tbody tr th:only-of-type {\n",
       "        vertical-align: middle;\n",
       "    }\n",
       "\n",
       "    .dataframe tbody tr th {\n",
       "        vertical-align: top;\n",
       "    }\n",
       "\n",
       "    .dataframe thead th {\n",
       "        text-align: right;\n",
       "    }\n",
       "</style>\n",
       "<table border=\"1\" class=\"dataframe\">\n",
       "  <thead>\n",
       "    <tr style=\"text-align: right;\">\n",
       "      <th></th>\n",
       "      <th>Unnamed: 0</th>\n",
       "      <th>Review</th>\n",
       "      <th>Rating</th>\n",
       "      <th>weight</th>\n",
       "    </tr>\n",
       "  </thead>\n",
       "  <tbody>\n",
       "    <tr>\n",
       "      <th>0</th>\n",
       "      <td>6344</td>\n",
       "      <td>nice corporate westin stayed westin market str...</td>\n",
       "      <td>4</td>\n",
       "      <td>14</td>\n",
       "    </tr>\n",
       "    <tr>\n",
       "      <th>1</th>\n",
       "      <td>11013</td>\n",
       "      <td>nice hotel chose hotel based tripadvisor revie...</td>\n",
       "      <td>4</td>\n",
       "      <td>14</td>\n",
       "    </tr>\n",
       "    <tr>\n",
       "      <th>2</th>\n",
       "      <td>2</td>\n",
       "      <td>great hotel location union square stay great 6...</td>\n",
       "      <td>4</td>\n",
       "      <td>14</td>\n",
       "    </tr>\n",
       "    <tr>\n",
       "      <th>3</th>\n",
       "      <td>4624</td>\n",
       "      <td>ok great potential stayed nights caribe hilton...</td>\n",
       "      <td>3</td>\n",
       "      <td>21</td>\n",
       "    </tr>\n",
       "    <tr>\n",
       "      <th>4</th>\n",
       "      <td>2236</td>\n",
       "      <td>just fine make minute trip seattle conventions...</td>\n",
       "      <td>3</td>\n",
       "      <td>21</td>\n",
       "    </tr>\n",
       "  </tbody>\n",
       "</table>\n",
       "</div>"
      ],
      "text/plain": [
       "   Unnamed: 0                                             Review  Rating  \\\n",
       "0        6344  nice corporate westin stayed westin market str...       4   \n",
       "1       11013  nice hotel chose hotel based tripadvisor revie...       4   \n",
       "2           2  great hotel location union square stay great 6...       4   \n",
       "3        4624  ok great potential stayed nights caribe hilton...       3   \n",
       "4        2236  just fine make minute trip seattle conventions...       3   \n",
       "\n",
       "   weight  \n",
       "0      14  \n",
       "1      14  \n",
       "2      14  \n",
       "3      21  \n",
       "4      21  "
      ]
     },
     "execution_count": 3,
     "metadata": {},
     "output_type": "execute_result"
    }
   ],
   "source": [
    "df = pd.read_csv('to_model.csv')\n",
    "df.head()"
   ]
  },
  {
   "cell_type": "code",
   "execution_count": 4,
   "metadata": {},
   "outputs": [
    {
     "name": "stdout",
     "output_type": "stream",
     "text": [
      "[\"nice corporate westin stayed westin market street november 23rd pretty good non refundable internet rate 129 hotel website, n't fact just stays making platinum starwood preferred paid 100 using priceline equivalent 4* hotel.this perfectly acceptable nice clean comfortable corporate hotel no wow factor, decor bit grey gloomy lacks charm westins no near dismal recently renovated westin galleria dallas reviewed room bathroom sized starwood preferred guest floors good views city, conveniently located block away bart moma moscone centre blocks union square.if attending convention moscone centre ideal not recommend romance fun suggest historic westin st francis union square instead chic city centre boutique hotels hotel monaco palomar say staff extremely nice friendly helpful,  \", 'nice hotel chose hotel based tripadvisor reviews loved, actually better expected, room bathroom really big clean, location great short walk main attractions, 5 minutes walk subway, cafe inside building breakfast easy internet access,  ', 'great hotel location union square stay great 6 people total 3 rooms, room little different, enjoyed location close union square shopping just cable car away wharf, staff friendly helpful, definately stay returning sf,  ', \"ok great potential stayed nights caribe hilton, checking easy, resort looks nice outside clean grounds lighted evenings, diamond member expected nicer room got, did n't like upgrade standards, lobby nice, floor needed nice new fresh coat paint, room ok standard small balcony sit enjoy nice cup coffee, bathroom best room larger standard rooms travertine shower double sinks, mini refrig, room.executive lounge nice used times, charge alcohol exec, lounge not, great set breakfast snacks light dinner items, impressed, staff kind.the pools nice, beach ok kid friendly, activities going hour liked, food expensive expect resort.we toured old puerto rico interesting fun safe, visit stay resort,  \", \"just fine make minute trip seattle conventions going closest hotel downtown area, arrive dingy 70 exterior does n't lot ease mind nor does location room things improve, newly renovated clean, bed quite comfortable room quiet despite facing busy street, rooms quite small live nyc used tight quarters did n't really bother, breakfast room makes high school cafeteria feel like ritz depressing start day skip talk walk belltown proper cup coffee kind breakfast want.totally acceptable motel edge town,  \"]\n",
      "[4, 5, 3, 2, 3]\n"
     ]
    }
   ],
   "source": [
    "X_train = list(df['Review'])\n",
    "y_train = list(df['Rating'])\n",
    "\n",
    "print(X_train[:5])\n",
    "print(y_train[-5:])"
   ]
  },
  {
   "cell_type": "code",
   "execution_count": 5,
   "metadata": {},
   "outputs": [
    {
     "data": {
      "text/html": [
       "<div>\n",
       "<style scoped>\n",
       "    .dataframe tbody tr th:only-of-type {\n",
       "        vertical-align: middle;\n",
       "    }\n",
       "\n",
       "    .dataframe tbody tr th {\n",
       "        vertical-align: top;\n",
       "    }\n",
       "\n",
       "    .dataframe thead th {\n",
       "        text-align: right;\n",
       "    }\n",
       "</style>\n",
       "<table border=\"1\" class=\"dataframe\">\n",
       "  <thead>\n",
       "    <tr style=\"text-align: right;\">\n",
       "      <th></th>\n",
       "      <th>Unnamed: 0</th>\n",
       "      <th>Review</th>\n",
       "      <th>Rating</th>\n",
       "    </tr>\n",
       "  </thead>\n",
       "  <tbody>\n",
       "    <tr>\n",
       "      <th>0</th>\n",
       "      <td>0</td>\n",
       "      <td>ehhh better punta cana twice compared hotel st...</td>\n",
       "      <td>2</td>\n",
       "    </tr>\n",
       "    <tr>\n",
       "      <th>1</th>\n",
       "      <td>1</td>\n",
       "      <td>4 n't think, decided book atenea night stay de...</td>\n",
       "      <td>2</td>\n",
       "    </tr>\n",
       "    <tr>\n",
       "      <th>2</th>\n",
       "      <td>2</td>\n",
       "      <td>awesome time just returned vacation fantastic ...</td>\n",
       "      <td>4</td>\n",
       "    </tr>\n",
       "    <tr>\n",
       "      <th>3</th>\n",
       "      <td>3</td>\n",
       "      <td>grand oasis wonderful second time, group 20 fr...</td>\n",
       "      <td>5</td>\n",
       "    </tr>\n",
       "    <tr>\n",
       "      <th>4</th>\n",
       "      <td>4</td>\n",
       "      <td>not bad stay stayed hotel family attending jav...</td>\n",
       "      <td>3</td>\n",
       "    </tr>\n",
       "  </tbody>\n",
       "</table>\n",
       "</div>"
      ],
      "text/plain": [
       "   Unnamed: 0                                             Review  Rating\n",
       "0           0  ehhh better punta cana twice compared hotel st...       2\n",
       "1           1  4 n't think, decided book atenea night stay de...       2\n",
       "2           2  awesome time just returned vacation fantastic ...       4\n",
       "3           3  grand oasis wonderful second time, group 20 fr...       5\n",
       "4           4  not bad stay stayed hotel family attending jav...       3"
      ]
     },
     "execution_count": 5,
     "metadata": {},
     "output_type": "execute_result"
    }
   ],
   "source": [
    "df = pd.read_csv('test.csv')\n",
    "df.head()"
   ]
  },
  {
   "cell_type": "code",
   "execution_count": 6,
   "metadata": {},
   "outputs": [
    {
     "name": "stdout",
     "output_type": "stream",
     "text": [
      "[\"ehhh better punta cana twice compared hotel stayed hotel major need help, let start good rooms little houses 4 rooms bungalow meant privacy, minibar minifrige pretty nice included array different liquors, staff really nice helpful exception, room did not smell like people expierience, pools nice, little shops really cool club plays mixture music, bad, desk staff exception nice staff, completely unorganized rude, rooms n't use key cards just keys, charge room prepared pay cash, n't creditcards, minibar frige stocked day, worst hike pool desk beach, closer not like, area like maze lost houses look map given, overall rate hotel 2-3 5 stars, like title states better,  \", \"4 n't think, decided book atenea night stay december received fairly good reviews convenient metro provided breakfast, unfortunately disappointed yes hotel convenient metro positive feature, hotel dated curtains carpets rooms bit scrub, rooms kitchens unless bring kitchen utensils not major advantage, plus sheets clean provided clean towels day, walls hotel extremely familiar neighbours nocturnal habits smell smoke rooms.breakfast bizarre affair granted stay breakfast served different location norm did not excuse complete lack organisation, room consisted mainly large tables seated 8 people share groups, morning wait bowls washed cereal morning cereal soggy time got spoons, toaster did not work hot food luke warm.barcelona great city plenty offer visit certainly not stay hotel atenea,  \", 'awesome time just returned vacation fantastic time, weather really nice grounds immaculate, dominicains friendliest people meet, planned trip palladium going shortly like tips advice restaurants best send email happy help, reach hermosoazulojos yahoo.ca, hope hear,  ', 'grand oasis wonderful second time, group 20 friends went grand oasis april 5-12 fantastic time, husband january planned wedding friends group, wedding awesome, jose pr person arrangements married couple beach planned, champange beach wedding dinner damarios italian housekeeping staff decorated room, entire staff watches little thing right, ate restaurants loved, friday night given special dinner beach apple vacations steak grilled shrimp bbq chicken trimmings, not say nice things resort, does wonderful job gm pablo carin jose registration staff wait staff housekeeping guys sweeping seaweed morning, plan going january april 2009. husband says new home,  ', 'not bad stay stayed hotel family attending javaone 2008. lot positives hotel disappointments.positives 1- great location, easy 80 head oakland easy water easy 101 head silicon valley, nice walk moscone center 2- sleep 5 comfortable room 2 queens sofa-bed 3- great price, hotels area good value, 4- helpful desk staffdisappointments 1- poll small, deepest end 3.5 feet yes just little meter, shallow end 3 feet 2- parking expensive, 50/night include taxes 3- 2 5 nights housekeeping sheets sofa-bed, time took 3 hours arrive 4- day arrived street main entrance closed making difficult hotel,  ']\n",
      "[2, 5, 5, 4, 5]\n"
     ]
    }
   ],
   "source": [
    "X_test = list(df['Review'])\n",
    "y_test = list(df['Rating'])\n",
    "\n",
    "print(X_test[:5])\n",
    "print(y_test[-5:])"
   ]
  },
  {
   "cell_type": "code",
   "execution_count": 7,
   "metadata": {},
   "outputs": [],
   "source": [
    "import tensorflow as tf\n",
    "from tensorflow.keras.preprocessing.text import Tokenizer\n",
    "from tensorflow.keras.preprocessing.sequence import pad_sequences"
   ]
  },
  {
   "cell_type": "code",
   "execution_count": 8,
   "metadata": {},
   "outputs": [],
   "source": [
    "# Tokenize the words (bag of words) with an oov token\n",
    "tokenizer = Tokenizer(num_words=vocab_size, oov_token=oov_tok)\n",
    "tokenizer.fit_on_texts(X_train)\n",
    "word_index = tokenizer.word_index"
   ]
  },
  {
   "cell_type": "code",
   "execution_count": 9,
   "metadata": {},
   "outputs": [],
   "source": [
    "import numpy as np"
   ]
  },
  {
   "cell_type": "code",
   "execution_count": 10,
   "metadata": {},
   "outputs": [
    {
     "name": "stdout",
     "output_type": "stream",
     "text": [
      "[  12 2112  780   21  780  446   79 1505 3319  105    7  366 4640  160\n",
      "  208 4964    2  401    5  301   13 1678  439 1736 2696 1279  157  553\n",
      "  666 1400 3764   50    2  714 1017 1109   12   23   75 2112    2   11\n",
      " 1255 2631  443   73 3320 4965 2968 1587    1   11  185 4391  614  760\n",
      "  780 5333 2490 4966    3   42  672 2696 1279  374  682    7  381   85\n",
      " 1711  161  367   68 3605 8189 8190  415  463 1168  302  634 3094 1315\n",
      " 8190  415  705    4   57 8191  179  774 1960  780  619 9883 1168  302\n",
      "  421 2303   85  415  914   64    2 4967    1   80    9  204   12   39\n",
      "   51    0    0    0    0    0    0    0    0    0    0    0    0    0\n",
      "    0    0    0    0    0    0    0    0    0    0    0    0    0    0\n",
      "    0    0    0    0    0    0    0    0    0    0    0    0    0    0\n",
      "    0    0    0    0    0    0    0    0    0    0    0    0    0    0\n",
      "    0    0    0    0    0    0    0    0    0    0    0    0    0    0\n",
      "    0    0    0    0    0    0    0    0    0    0    0    0    0    0\n",
      "    0    0    0    0    0    0    0    0    0    0    0    0    0    0\n",
      "    0    0    0    0    0    0    0    0    0    0    0    0    0    0\n",
      "    0    0    0    0    0    0    0    0    0    0    0    0    0    0\n",
      "    0    0    0    0    0    0    0    0    0    0    0    0    0    0\n",
      "    0    0    0    0    0    0    0    0    0    0    0    0    0    0\n",
      "    0    0    0    0    0    0    0    0    0    0    0    0    0    0\n",
      "    0    0    0    0    0    0    0    0    0    0    0    0    0    0\n",
      "    0    0    0    0    0    0    0    0    0    0    0    0    0    0\n",
      "    0    0    0    0    0    0    0    0    0    0    0    0    0    0\n",
      "    0    0    0    0    0    0    0    0    0    0    0    0    0    0\n",
      "    0    0    0    0    0    0    0    0    0    0    0    0    0    0\n",
      "    0    0    0    0    0    0    0    0    0    0    0    0    0    0\n",
      "    0    0    0    0    0    0    0    0    0    0    0    0    0    0\n",
      "    0    0    0    0    0    0    0    0    0    0    0    0    0    0\n",
      "    0    0    0    0    0    0    0    0    0    0    0    0    0    0\n",
      "    0    0    0    0    0    0    0    0    0    0    0    0    0    0\n",
      "    0    0    0    0    0    0    0    0    0    0    0    0    0    0\n",
      "    0    0    0    0    0    0    0    0    0    0    0    0    0    0\n",
      "    0    0    0    0    0    0    0    0    0    0    0    0    0    0\n",
      "    0    0    0    0    0    0    0    0    0    0    0    0    0    0\n",
      "    0    0    0    0    0    0    0    0    0    0    0    0    0    0\n",
      "    0    0    0    0    0    0    0    0    0    0    0    0    0    0\n",
      "    0    0    0    0    0    0    0    0    0    0    0    0    0    0\n",
      "    0    0    0    0    0    0    0    0    0    0    0    0    0    0\n",
      "    0    0    0    0    0    0    0    0    0    0    0    0    0    0\n",
      "    0    0    0    0    0    0    0    0]\n",
      "(4610, 554)\n"
     ]
    }
   ],
   "source": [
    "sequences_training = tokenizer.texts_to_sequences(X_train)\n",
    "max_length = int(np.median([len(x) for x in X_train]))\n",
    "padded_training = pad_sequences(\n",
    "    sequences_training, \n",
    "    padding=padding_type, \n",
    "    truncating=trunc_type,\n",
    "    maxlen=max_length\n",
    ")\n",
    "\n",
    "print(padded_training[0])\n",
    "print(padded_training.shape)"
   ]
  },
  {
   "cell_type": "code",
   "execution_count": 11,
   "metadata": {},
   "outputs": [
    {
     "name": "stdout",
     "output_type": "stream",
     "text": [
      "[   1   55  203  199  424  773    2   21    2  453  103  234  267  422\n",
      "    7   14   37 2627   50   14 3586  947 1294 1060    1  105   12  262\n",
      " 4318  184 4654    9   30   12   51 1439    3    8    4  402   25   29\n",
      "    1  382   12   37  418   30  392  198 4559 4243  410   82   47    9\n",
      " 1439   12    9  625 3853  384   14    5  104  465 1151   13 1620  279\n",
      "    3  585  141 1171    5    1 1060    1 1093   19  348 3600   31   47\n",
      "   18 1061    4   25   36   25 4648  794 2627  214 1366  212  110  208\n",
      "    2   32   38   35  581   25 6835 2055   55    0    0    0    0    0\n",
      "    0    0    0    0    0    0    0    0    0    0    0    0    0    0\n",
      "    0    0    0    0    0    0    0    0    0    0    0    0    0    0\n",
      "    0    0    0    0    0    0    0    0    0    0    0    0    0    0\n",
      "    0    0    0    0    0    0    0    0    0    0    0    0    0    0\n",
      "    0    0    0    0    0    0    0    0    0    0    0    0    0    0\n",
      "    0    0    0    0    0    0    0    0    0    0    0    0    0    0\n",
      "    0    0    0    0    0    0    0    0    0    0    0    0    0    0\n",
      "    0    0    0    0    0    0    0    0    0    0    0    0    0    0\n",
      "    0    0    0    0    0    0    0    0    0    0    0    0    0    0\n",
      "    0    0    0    0    0    0    0    0    0    0    0    0    0    0\n",
      "    0    0    0    0    0    0    0    0    0    0    0    0    0    0\n",
      "    0    0    0    0    0    0    0    0    0    0    0    0    0    0\n",
      "    0    0    0    0    0    0    0    0    0    0    0    0    0    0\n",
      "    0    0    0    0    0    0    0    0    0    0    0    0    0    0\n",
      "    0    0    0    0    0    0    0    0    0    0    0    0    0    0\n",
      "    0    0    0    0    0    0    0    0    0    0    0    0    0    0\n",
      "    0    0    0    0    0    0    0    0    0    0    0    0    0    0\n",
      "    0    0    0    0    0    0    0    0    0    0    0    0    0    0\n",
      "    0    0    0    0    0    0    0    0    0    0    0    0    0    0\n",
      "    0    0    0    0    0    0    0    0    0    0    0    0    0    0\n",
      "    0    0    0    0    0    0    0    0    0    0    0    0    0    0\n",
      "    0    0    0    0    0    0    0    0    0    0    0    0    0    0\n",
      "    0    0    0    0    0    0    0    0    0    0    0    0    0    0\n",
      "    0    0    0    0    0    0    0    0    0    0    0    0    0    0\n",
      "    0    0    0    0    0    0    0    0    0    0    0    0    0    0\n",
      "    0    0    0    0    0    0    0    0    0    0    0    0    0    0\n",
      "    0    0    0    0    0    0    0    0    0    0    0    0    0    0\n",
      "    0    0    0    0    0    0    0    0    0    0    0    0    0    0\n",
      "    0    0    0    0    0    0    0    0    0    0    0    0    0    0\n",
      "    0    0    0    0    0    0    0    0    0    0    0    0    0    0\n",
      "    0    0    0    0    0    0    0    0    0    0    0    0    0    0\n",
      "    0    0    0    0    0    0    0    0]\n",
      "(5123, 554)\n"
     ]
    }
   ],
   "source": [
    "sequences_test = tokenizer.texts_to_sequences(X_test)\n",
    "padded_test = pad_sequences(\n",
    "    sequences_test, \n",
    "    padding=padding_type, \n",
    "    truncating=trunc_type,\n",
    "    maxlen=max_length\n",
    ")\n",
    "\n",
    "print(padded_test[0])\n",
    "print(padded_test.shape)"
   ]
  },
  {
   "cell_type": "code",
   "execution_count": 12,
   "metadata": {},
   "outputs": [],
   "source": [
    "# Need this block to get it to work with TensorFlow 2.x\n",
    "import numpy as np\n",
    "padded_training = np.array(padded_training)\n",
    "y_train = np.array(y_train)\n",
    "padded_test = np.array(padded_test)\n",
    "y_test = np.array(y_test)"
   ]
  },
  {
   "cell_type": "code",
   "execution_count": 13,
   "metadata": {},
   "outputs": [],
   "source": [
    "\n",
    "model = tf.keras.models.Sequential([\n",
    "    tf.keras.layers.Embedding(vocab_size, embedding_dim, input_length = max_length),\n",
    "    tf.keras.layers.GlobalAveragePooling1D(),\n",
    "    tf.keras.layers.Dense(32, activation='relu'),\n",
    "    tf.keras.layers.Dropout(0.2),\n",
    "    tf.keras.layers.Dense(6, activation='softmax')\n",
    "])\n",
    "\n",
    "model.compile(optimizer='adam',\n",
    "              loss='sparse_categorical_crossentropy',\n",
    "              metrics=['accuracy'])"
   ]
  },
  {
   "cell_type": "code",
   "execution_count": 14,
   "metadata": {},
   "outputs": [
    {
     "name": "stdout",
     "output_type": "stream",
     "text": [
      "Model: \"sequential\"\n",
      "_________________________________________________________________\n",
      "Layer (type)                 Output Shape              Param #   \n",
      "=================================================================\n",
      "embedding (Embedding)        (None, 554, 16)           160000    \n",
      "_________________________________________________________________\n",
      "global_average_pooling1d (Gl (None, 16)                0         \n",
      "_________________________________________________________________\n",
      "dense (Dense)                (None, 32)                544       \n",
      "_________________________________________________________________\n",
      "dropout (Dropout)            (None, 32)                0         \n",
      "_________________________________________________________________\n",
      "dense_1 (Dense)              (None, 6)                 198       \n",
      "=================================================================\n",
      "Total params: 160,742\n",
      "Trainable params: 160,742\n",
      "Non-trainable params: 0\n",
      "_________________________________________________________________\n"
     ]
    }
   ],
   "source": [
    "model.summary()"
   ]
  },
  {
   "cell_type": "code",
   "execution_count": 15,
   "metadata": {},
   "outputs": [
    {
     "name": "stdout",
     "output_type": "stream",
     "text": [
      "Epoch 1/50\n",
      "145/145 - 0s - loss: 1.6944 - accuracy: 0.3213 - val_loss: 1.5393 - val_accuracy: 0.2979\n",
      "Epoch 2/50\n",
      "145/145 - 0s - loss: 1.5788 - accuracy: 0.3289 - val_loss: 1.4888 - val_accuracy: 0.2979\n",
      "Epoch 3/50\n",
      "145/145 - 0s - loss: 1.5625 - accuracy: 0.3343 - val_loss: 1.4956 - val_accuracy: 0.2979\n",
      "Epoch 4/50\n",
      "145/145 - 0s - loss: 1.5505 - accuracy: 0.3258 - val_loss: 1.4871 - val_accuracy: 0.2979\n",
      "Epoch 5/50\n",
      "145/145 - 0s - loss: 1.5384 - accuracy: 0.3341 - val_loss: 1.4638 - val_accuracy: 0.2985\n",
      "Epoch 6/50\n",
      "145/145 - 0s - loss: 1.5052 - accuracy: 0.3395 - val_loss: 1.4345 - val_accuracy: 0.3072\n",
      "Epoch 7/50\n",
      "145/145 - 0s - loss: 1.4121 - accuracy: 0.3831 - val_loss: 1.3481 - val_accuracy: 0.3260\n",
      "Epoch 8/50\n",
      "145/145 - 0s - loss: 1.3005 - accuracy: 0.4328 - val_loss: 1.2417 - val_accuracy: 0.3447\n",
      "Epoch 9/50\n",
      "145/145 - 0s - loss: 1.2083 - accuracy: 0.4631 - val_loss: 1.1931 - val_accuracy: 0.3574\n",
      "Epoch 10/50\n",
      "145/145 - 0s - loss: 1.1403 - accuracy: 0.4829 - val_loss: 1.1355 - val_accuracy: 0.3613\n",
      "Epoch 11/50\n",
      "145/145 - 0s - loss: 1.0919 - accuracy: 0.4954 - val_loss: 1.1352 - val_accuracy: 0.3621\n",
      "Epoch 12/50\n",
      "145/145 - 0s - loss: 1.0510 - accuracy: 0.5126 - val_loss: 1.1406 - val_accuracy: 0.3648\n",
      "Epoch 13/50\n",
      "145/145 - 0s - loss: 1.0166 - accuracy: 0.5262 - val_loss: 1.0895 - val_accuracy: 0.3658\n",
      "Epoch 14/50\n",
      "145/145 - 0s - loss: 0.9799 - accuracy: 0.5440 - val_loss: 1.0559 - val_accuracy: 0.3693\n",
      "Epoch 15/50\n",
      "145/145 - 0s - loss: 0.9553 - accuracy: 0.5579 - val_loss: 1.0592 - val_accuracy: 0.3746\n",
      "Epoch 16/50\n",
      "145/145 - 0s - loss: 0.9232 - accuracy: 0.5772 - val_loss: 1.0894 - val_accuracy: 0.3935\n",
      "Epoch 17/50\n",
      "145/145 - 0s - loss: 0.8917 - accuracy: 0.5972 - val_loss: 1.0614 - val_accuracy: 0.4000\n",
      "Epoch 18/50\n",
      "145/145 - 0s - loss: 0.8694 - accuracy: 0.6174 - val_loss: 1.0661 - val_accuracy: 0.3947\n",
      "Epoch 19/50\n",
      "145/145 - 0s - loss: 0.8430 - accuracy: 0.6275 - val_loss: 1.0314 - val_accuracy: 0.4650\n",
      "Epoch 20/50\n",
      "145/145 - 0s - loss: 0.8211 - accuracy: 0.6430 - val_loss: 1.0158 - val_accuracy: 0.4874\n",
      "Epoch 21/50\n",
      "145/145 - 0s - loss: 0.7971 - accuracy: 0.6503 - val_loss: 1.1473 - val_accuracy: 0.4281\n",
      "Epoch 22/50\n",
      "145/145 - 0s - loss: 0.7764 - accuracy: 0.6746 - val_loss: 1.0008 - val_accuracy: 0.5196\n",
      "Epoch 23/50\n",
      "145/145 - 0s - loss: 0.7536 - accuracy: 0.6755 - val_loss: 1.0448 - val_accuracy: 0.4899\n",
      "Epoch 24/50\n",
      "145/145 - 0s - loss: 0.7295 - accuracy: 0.6996 - val_loss: 0.9779 - val_accuracy: 0.5669\n",
      "Epoch 25/50\n",
      "145/145 - 0s - loss: 0.7077 - accuracy: 0.7091 - val_loss: 0.9867 - val_accuracy: 0.5520\n",
      "Epoch 26/50\n",
      "145/145 - 0s - loss: 0.6947 - accuracy: 0.7137 - val_loss: 1.0110 - val_accuracy: 0.5467\n",
      "Epoch 27/50\n",
      "145/145 - 0s - loss: 0.6689 - accuracy: 0.7297 - val_loss: 0.9838 - val_accuracy: 0.5739\n",
      "Epoch 28/50\n",
      "145/145 - 0s - loss: 0.6466 - accuracy: 0.7399 - val_loss: 1.0536 - val_accuracy: 0.5315\n",
      "Epoch 29/50\n",
      "145/145 - 0s - loss: 0.6211 - accuracy: 0.7547 - val_loss: 1.0094 - val_accuracy: 0.5680\n",
      "Epoch 30/50\n",
      "145/145 - 0s - loss: 0.6040 - accuracy: 0.7681 - val_loss: 1.1245 - val_accuracy: 0.4937\n",
      "Epoch 31/50\n",
      "145/145 - 0s - loss: 0.5884 - accuracy: 0.7655 - val_loss: 1.0878 - val_accuracy: 0.5387\n",
      "Epoch 32/50\n",
      "145/145 - 0s - loss: 0.5733 - accuracy: 0.7796 - val_loss: 1.1406 - val_accuracy: 0.5106\n",
      "Epoch 33/50\n",
      "145/145 - 0s - loss: 0.5525 - accuracy: 0.7922 - val_loss: 1.0519 - val_accuracy: 0.5622\n",
      "Epoch 34/50\n",
      "145/145 - 0s - loss: 0.5411 - accuracy: 0.7961 - val_loss: 1.0450 - val_accuracy: 0.5719\n",
      "Epoch 35/50\n",
      "145/145 - 0s - loss: 0.5264 - accuracy: 0.8009 - val_loss: 1.0708 - val_accuracy: 0.5710\n",
      "Epoch 36/50\n",
      "145/145 - 0s - loss: 0.5021 - accuracy: 0.8180 - val_loss: 1.0844 - val_accuracy: 0.5725\n",
      "Epoch 37/50\n",
      "145/145 - 1s - loss: 0.4970 - accuracy: 0.8141 - val_loss: 1.1007 - val_accuracy: 0.5676\n",
      "Epoch 38/50\n",
      "145/145 - 0s - loss: 0.4726 - accuracy: 0.8306 - val_loss: 1.0918 - val_accuracy: 0.5823\n",
      "Epoch 39/50\n",
      "145/145 - 0s - loss: 0.4592 - accuracy: 0.8360 - val_loss: 1.1152 - val_accuracy: 0.5745\n",
      "Epoch 40/50\n",
      "145/145 - 0s - loss: 0.4562 - accuracy: 0.8334 - val_loss: 1.2136 - val_accuracy: 0.5454\n",
      "Epoch 41/50\n",
      "145/145 - 0s - loss: 0.4280 - accuracy: 0.8508 - val_loss: 1.1813 - val_accuracy: 0.5620\n",
      "Epoch 42/50\n",
      "145/145 - 0s - loss: 0.4175 - accuracy: 0.8597 - val_loss: 1.1776 - val_accuracy: 0.5649\n",
      "Epoch 43/50\n",
      "145/145 - 0s - loss: 0.4054 - accuracy: 0.8629 - val_loss: 1.1885 - val_accuracy: 0.5735\n",
      "Epoch 44/50\n",
      "145/145 - 0s - loss: 0.3877 - accuracy: 0.8675 - val_loss: 1.2907 - val_accuracy: 0.5387\n",
      "Epoch 45/50\n",
      "145/145 - 0s - loss: 0.3786 - accuracy: 0.8679 - val_loss: 1.2254 - val_accuracy: 0.5737\n",
      "Epoch 46/50\n",
      "145/145 - 0s - loss: 0.3557 - accuracy: 0.8848 - val_loss: 1.2933 - val_accuracy: 0.5514\n",
      "Epoch 47/50\n",
      "145/145 - 0s - loss: 0.3483 - accuracy: 0.8892 - val_loss: 1.2957 - val_accuracy: 0.5639\n",
      "Epoch 48/50\n",
      "145/145 - 0s - loss: 0.3321 - accuracy: 0.8931 - val_loss: 1.3493 - val_accuracy: 0.5466\n",
      "Epoch 49/50\n",
      "145/145 - 1s - loss: 0.3208 - accuracy: 0.8950 - val_loss: 1.3287 - val_accuracy: 0.5676\n",
      "Epoch 50/50\n",
      "145/145 - 1s - loss: 0.3085 - accuracy: 0.9030 - val_loss: 1.3138 - val_accuracy: 0.5776\n"
     ]
    }
   ],
   "source": [
    "num_epochs = 50\n",
    "history = model.fit(\n",
    "    padded_training, y_train,\n",
    "    epochs= num_epochs,\n",
    "    validation_data = (padded_test, y_test),\n",
    "    verbose=2\n",
    ")"
   ]
  }
 ],
 "metadata": {
  "kernelspec": {
   "display_name": "Python 3",
   "language": "python",
   "name": "python3"
  },
  "language_info": {
   "codemirror_mode": {
    "name": "ipython",
    "version": 3
   },
   "file_extension": ".py",
   "mimetype": "text/x-python",
   "name": "python",
   "nbconvert_exporter": "python",
   "pygments_lexer": "ipython3",
   "version": "3.7.3"
  }
 },
 "nbformat": 4,
 "nbformat_minor": 4
}
